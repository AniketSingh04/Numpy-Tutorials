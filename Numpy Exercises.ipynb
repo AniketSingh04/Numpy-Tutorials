{
 "cells": [
  {
   "cell_type": "code",
   "execution_count": 1,
   "metadata": {},
   "outputs": [],
   "source": [
    "import numpy as np"
   ]
  },
  {
   "cell_type": "code",
   "execution_count": 3,
   "metadata": {},
   "outputs": [
    {
     "name": "stdout",
     "output_type": "stream",
     "text": [
      "[[11 13 15]\n",
      " [17 19 21]]\n"
     ]
    }
   ],
   "source": [
    "#1. Elememt wise addition of two numpy arrays\n",
    "a=np.array([[1,2,3],[4,5,6]])\n",
    "b=np.array([[10,11,12],[13,14,15]])\n",
    "c=a+b\n",
    "print(c)"
   ]
  },
  {
   "cell_type": "code",
   "execution_count": 4,
   "metadata": {},
   "outputs": [],
   "source": [
    "#2. Multiplying a matrix by scalar\n",
    "a=np.arange(1,10)"
   ]
  },
  {
   "cell_type": "code",
   "execution_count": 5,
   "metadata": {},
   "outputs": [
    {
     "name": "stdout",
     "output_type": "stream",
     "text": [
      "[ 5 10 15 20 25 30 35 40 45]\n"
     ]
    }
   ],
   "source": [
    "print(a*5)"
   ]
  },
  {
   "cell_type": "code",
   "execution_count": 7,
   "metadata": {},
   "outputs": [
    {
     "name": "stdout",
     "output_type": "stream",
     "text": [
      "[[1. 0. 0.]\n",
      " [0. 1. 0.]\n",
      " [0. 0. 1.]]\n"
     ]
    }
   ],
   "source": [
    "#3. Identity matrix\n",
    "a=np.identity(3)\n",
    "print(a)"
   ]
  },
  {
   "cell_type": "code",
   "execution_count": 8,
   "metadata": {},
   "outputs": [
    {
     "name": "stdout",
     "output_type": "stream",
     "text": [
      "[[1. 0. 0. 0.]\n",
      " [0. 1. 0. 0.]\n",
      " [0. 0. 1. 0.]\n",
      " [0. 0. 0. 1.]]\n"
     ]
    }
   ],
   "source": [
    "b=np.eye(4)\n",
    "print(b)"
   ]
  },
  {
   "cell_type": "code",
   "execution_count": 11,
   "metadata": {},
   "outputs": [
    {
     "name": "stdout",
     "output_type": "stream",
     "text": [
      "[ 0  1  2  3  4  5  6  7  8  9 10 11 12 13 14 15 16 17 18 19 20 21 22 23\n",
      " 24 25 26]\n",
      "[[[ 0  1  2]\n",
      "  [ 3  4  5]\n",
      "  [ 6  7  8]]\n",
      "\n",
      " [[ 9 10 11]\n",
      "  [12 13 14]\n",
      "  [15 16 17]]\n",
      "\n",
      " [[18 19 20]\n",
      "  [21 22 23]\n",
      "  [24 25 26]]]\n"
     ]
    }
   ],
   "source": [
    "#4. Array Redimensioning\n",
    "a=np.arange(27)\n",
    "print(a)\n",
    "b=a.reshape(3,3,3)\n",
    "print(b)"
   ]
  },
  {
   "cell_type": "code",
   "execution_count": 21,
   "metadata": {},
   "outputs": [
    {
     "name": "stdout",
     "output_type": "stream",
     "text": [
      "[1 4 7 9]\n",
      "----------\n",
      "[1 4 7 9]\n"
     ]
    }
   ],
   "source": [
    "#5. Array datatype conversion\n",
    "a=np.array([1.2,4.56,7.8,9],dtype=np.int32)\n",
    "print(a)\n",
    "\n",
    "print(\"-\"*10)\n",
    "\n",
    "b=np.array([1.2,4.56,7.8,9])\n",
    "o=b.astype('int')\n",
    "print(o)\n"
   ]
  },
  {
   "cell_type": "code",
   "execution_count": 24,
   "metadata": {},
   "outputs": [
    {
     "name": "stdout",
     "output_type": "stream",
     "text": [
      "[[ True  True False]\n",
      " [ True  True  True]\n",
      " [False False False]]\n"
     ]
    }
   ],
   "source": [
    "#6. Obtaining Boolean Array from Binary Array\n",
    "a=np.array([[1,2,0],[1,1,1],[0,0,0]])\n",
    "b=a.astype('bool')\n",
    "print(b)"
   ]
  },
  {
   "cell_type": "code",
   "execution_count": 32,
   "metadata": {},
   "outputs": [
    {
     "name": "stdout",
     "output_type": "stream",
     "text": [
      "[[1 2]\n",
      " [3 4]\n",
      " [5 6]]\n",
      "----------\n",
      "[[ 7  8]\n",
      " [ 9 10]\n",
      " [11 12]]\n",
      "----------\n",
      "[[ 1  2]\n",
      " [ 3  4]\n",
      " [ 5  6]\n",
      " [ 7  8]\n",
      " [ 9 10]\n",
      " [11 12]]\n"
     ]
    }
   ],
   "source": [
    "#7. Vertical Stacking of Numpy Arrays\n",
    "a=np.arange(1,7)\n",
    "a1=a.reshape(3,2)\n",
    "b=np.arange(7,13)\n",
    "a2=b.reshape(3,2)\n",
    "print(a1)\n",
    "print(\"-\"*10)\n",
    "print(a2)\n",
    "print(\"-\"*10)\n",
    "o=np.vstack((a1,a2))\n",
    "print(o)"
   ]
  },
  {
   "cell_type": "code",
   "execution_count": 33,
   "metadata": {},
   "outputs": [
    {
     "name": "stdout",
     "output_type": "stream",
     "text": [
      "[[1 2 3]\n",
      " [4 5 6]]\n",
      "----------\n",
      "[[ 7  8  9]\n",
      " [10 11 12]]\n",
      "----------\n",
      "[[ 1  2  3  7  8  9]\n",
      " [ 4  5  6 10 11 12]]\n"
     ]
    }
   ],
   "source": [
    "#8. Horizontal Stacking of Numpy Arrays\n",
    "a=np.arange(1,7)\n",
    "a1=a.reshape(2,3)\n",
    "b=np.arange(7,13)\n",
    "a2=b.reshape(2,3)\n",
    "print(a1)\n",
    "print(\"-\"*10)\n",
    "print(a2)\n",
    "print(\"-\"*10)\n",
    "o=np.hstack((a1,a2))\n",
    "print(o)"
   ]
  },
  {
   "cell_type": "code",
   "execution_count": 34,
   "metadata": {},
   "outputs": [
    {
     "name": "stdout",
     "output_type": "stream",
     "text": [
      "[  0   2   4   6   8  10  12  14  16  18  20  22  24  26  28  30  32  34\n",
      "  36  38  40  42  44  46  48  50  52  54  56  58  60  62  64  66  68  70\n",
      "  72  74  76  78  80  82  84  86  88  90  92  94  96  98 100]\n"
     ]
    }
   ],
   "source": [
    "#9. Custom Sequence Generation\n",
    "a=np.arange(0,101,2)\n",
    "print(a)"
   ]
  },
  {
   "cell_type": "code",
   "execution_count": 40,
   "metadata": {},
   "outputs": [
    {
     "name": "stdout",
     "output_type": "stream",
     "text": [
      "(array([0, 3, 4], dtype=int64),)\n"
     ]
    }
   ],
   "source": [
    "#10. Getting Positions where elements of 2 numpy arrays match\n",
    "a=np.array([1,2,3,4,5])\n",
    "b=np.array([1,3,2,4,5])\n",
    "print(np.where(a==b))"
   ]
  },
  {
   "cell_type": "code",
   "execution_count": 43,
   "metadata": {},
   "outputs": [
    {
     "name": "stdout",
     "output_type": "stream",
     "text": [
      "[  0  25  50  75 100]\n"
     ]
    }
   ],
   "source": [
    "#11. Generation of given count of equally spaced numbers within a specified range\n",
    "a=np.linspace(0,100,5,dtype=np.int64)\n",
    "print(a)"
   ]
  },
  {
   "cell_type": "code",
   "execution_count": 47,
   "metadata": {},
   "outputs": [
    {
     "name": "stdout",
     "output_type": "stream",
     "text": [
      "[[5 5 5]\n",
      " [5 5 5]]\n",
      "----------\n",
      "[[5 5 5]\n",
      " [5 5 5]]\n"
     ]
    }
   ],
   "source": [
    "#12. Matrix Generation with one particular value\n",
    "a=np.full((2,3),5)\n",
    "print(a)\n",
    "\n",
    "print(\"-\"*10)\n",
    "\n",
    "b=np.ones((2,3),dtype=np.int64)\n",
    "print(b*5)"
   ]
  },
  {
   "cell_type": "code",
   "execution_count": 50,
   "metadata": {},
   "outputs": [
    {
     "name": "stdout",
     "output_type": "stream",
     "text": [
      "[[1 2 3 1 2 3 1 2 3 1 2 3 1 2 3 1 2 3 1 2 3 1 2 3 1 2 3 1 2 3]\n",
      " [4 5 6 4 5 6 4 5 6 4 5 6 4 5 6 4 5 6 4 5 6 4 5 6 4 5 6 4 5 6]]\n"
     ]
    }
   ],
   "source": [
    "#13. Array Generation by repeatition of a small array across each dimension\n",
    "a=np.arange(1,7)\n",
    "b=a.reshape(2,3)\n",
    "o=np.tile(b,10)\n",
    "print(o)"
   ]
  },
  {
   "cell_type": "code",
   "execution_count": 53,
   "metadata": {},
   "outputs": [
    {
     "name": "stdout",
     "output_type": "stream",
     "text": [
      "[[-0.69883694  0.01062308 -0.94678644]\n",
      " [ 0.32872998  0.31506457 -0.40282244]\n",
      " [-2.63330372  0.2019705  -0.40732612]]\n"
     ]
    }
   ],
   "source": [
    "#14. Array Generation of random numbers following normal distribution\n",
    "np.random.seed(125) #setting the seed\n",
    "a=np.random.normal(size=(3,3))\n",
    "print(a)"
   ]
  },
  {
   "cell_type": "code",
   "execution_count": 59,
   "metadata": {},
   "outputs": [
    {
     "name": "stdout",
     "output_type": "stream",
     "text": [
      "[[0 6 4 7 6]\n",
      " [7 1 5 7 9]\n",
      " [2 4 8 1 2]\n",
      " [1 1 3 5 9]\n",
      " [0 8 1 6 3]]\n"
     ]
    }
   ],
   "source": [
    "#15. Array Generation of random integers within a specified range\n",
    "np.random.seed(123) #setting the seed\n",
    "a=np.random.randint(0,10,size=(5,5))\n",
    "print(a)"
   ]
  },
  {
   "cell_type": "code",
   "execution_count": 62,
   "metadata": {},
   "outputs": [
    {
     "name": "stdout",
     "output_type": "stream",
     "text": [
      "[[ 42  54  60]\n",
      " [108 135 150]\n",
      " [160 200 222]]\n",
      "--------------------\n",
      "[[ 42  54  60]\n",
      " [108 135 150]\n",
      " [160 200 222]]\n"
     ]
    }
   ],
   "source": [
    "#16. Matrix Multiplication\n",
    "a=np.array([[1,2,3],[4,5,6],[5,8,9]])\n",
    "b=np.array([[7,8,9],[10,11,12],[5,8,9]])\n",
    "print(a@b)\n",
    "\n",
    "print(\"-\"*20)\n",
    "\n",
    "c=np.matmul(a,b)\n",
    "print(c)"
   ]
  },
  {
   "cell_type": "code",
   "execution_count": 67,
   "metadata": {},
   "outputs": [
    {
     "name": "stdout",
     "output_type": "stream",
     "text": [
      "[[1 2 3]\n",
      " [4 5 6]\n",
      " [5 8 9]]\n",
      "--------------------\n",
      "[[1 4 5]\n",
      " [2 5 8]\n",
      " [3 6 9]]\n",
      "--------------------\n",
      "[[1 4 5]\n",
      " [2 5 8]\n",
      " [3 6 9]]\n"
     ]
    }
   ],
   "source": [
    "#17. Matrix Transpose\n",
    "a=np.array([[1,2,3],[4,5,6],[5,8,9]])\n",
    "a_transpose=a.T\n",
    "b=a.transpose()\n",
    "print(a)\n",
    "print(\"-\"*20)\n",
    "print(a_transpose)\n",
    "print(\"-\"*20)\n",
    "print(b)"
   ]
  },
  {
   "cell_type": "code",
   "execution_count": 72,
   "metadata": {},
   "outputs": [
    {
     "name": "stdout",
     "output_type": "stream",
     "text": [
      "[15 30 45]\n",
      "Sine of angles in array :  [ 0.65028784 -0.98803162  0.85090352]\n"
     ]
    }
   ],
   "source": [
    "#18. Sine of an angle in radians\n",
    "angles=np.linspace(15,45,3,dtype=np.int64)\n",
    "print(angles)\n",
    "print(\"Sine of angles in array : \",np.sin(angles))"
   ]
  },
  {
   "cell_type": "code",
   "execution_count": 74,
   "metadata": {},
   "outputs": [
    {
     "name": "stdout",
     "output_type": "stream",
     "text": [
      "[15 30 45]\n",
      "Cosine of angles in array :  [-0.75968791  0.15425145  0.52532199]\n"
     ]
    }
   ],
   "source": [
    "#19. Cosine of an angle in radians\n",
    "angles=np.linspace(15,45,3,dtype=np.int64)\n",
    "print(angles)\n",
    "print(\"Cosine of angles in array : \",np.cos(angles))"
   ]
  },
  {
   "cell_type": "code",
   "execution_count": 75,
   "metadata": {},
   "outputs": [
    {
     "name": "stdout",
     "output_type": "stream",
     "text": [
      "[1 3 4 2 0]\n"
     ]
    }
   ],
   "source": [
    "#20. Generating the array element indexes such that the array elements appear in ascending order\n",
    "a=np.array([10,1,5,2,4])\n",
    "print(np.argsort(a))"
   ]
  },
  {
   "cell_type": "code",
   "execution_count": null,
   "metadata": {},
   "outputs": [],
   "source": []
  }
 ],
 "metadata": {
  "kernelspec": {
   "display_name": "Python 3",
   "language": "python",
   "name": "python3"
  },
  "language_info": {
   "codemirror_mode": {
    "name": "ipython",
    "version": 3
   },
   "file_extension": ".py",
   "mimetype": "text/x-python",
   "name": "python",
   "nbconvert_exporter": "python",
   "pygments_lexer": "ipython3",
   "version": "3.8.3"
  }
 },
 "nbformat": 4,
 "nbformat_minor": 4
}
